{
  "nbformat": 4,
  "nbformat_minor": 0,
  "metadata": {
    "colab": {
      "name": "AbundanceLevelRation.ipynb",
      "version": "0.3.2",
      "provenance": [],
      "collapsed_sections": []
    },
    "kernelspec": {
      "name": "python3",
      "display_name": "Python 3"
    }
  },
  "cells": [
    {
      "metadata": {
        "id": "OICABl8fK5CN",
        "colab_type": "code",
        "colab": {}
      },
      "cell_type": "code",
      "source": [
        "# import libraries\n",
        "\n",
        "import pandas as pd\n",
        "import pickle\n",
        "import numpy as np\n",
        "from scipy import stats\n",
        "from statsmodels.sandbox.stats.multicomp import multipletests\n",
        "\n",
        "\n",
        "!pip install seaborn==0.9.0\n",
        "import seaborn as sns"
      ],
      "execution_count": 0,
      "outputs": []
    },
    {
      "metadata": {
        "id": "1M5oyGMbLW3s",
        "colab_type": "code",
        "colab": {}
      },
      "cell_type": "code",
      "source": [
        ""
      ],
      "execution_count": 0,
      "outputs": []
    },
    {
      "metadata": {
        "id": "yNn_SeRlLdg_",
        "colab_type": "code",
        "colab": {}
      },
      "cell_type": "code",
      "source": [
        "pickle_abundance_info = open(\"varianceDF.pickle\",\"rb\")\n",
        "pickle_protein_to_complex = open(\"BrentsComplexToProteins.pickle\",\"rb\")\n",
        "abundance_info = pickle.load(pickle_abundance_info)\n",
        "len(abundance_info)\n",
        "#abundance_info = abundance_info.set_index(\"Protein IDs\", drop = False)\n",
        "abundance_info = abundance_info.loc[:, abundance_info.columns.str.startswith('LFQ')]\n",
        "protein_to_complex = pickle.load(pickle_protein_to_complex)\n",
        "#protein_to_complex\n",
        "abundance_info\n"
      ],
      "execution_count": 0,
      "outputs": []
    },
    {
      "metadata": {
        "id": "K3hAkZdFNyx5",
        "colab_type": "code",
        "colab": {}
      },
      "cell_type": "code",
      "source": [
        "# make a list of the column names that represent healthy / cancerous samples\n",
        "\n",
        "healthyColumnNames = []\n",
        "cancerColumnNames = []\n",
        "for column in abundance_info.columns:\n",
        "    if \"_NM\" in column:\n",
        "        healthyColumnNames.append(column)\n",
        "    else:\n",
        "        cancerColumnNames.append(column)"
      ],
      "execution_count": 0,
      "outputs": []
    },
    {
      "metadata": {
        "id": "ek2QQLNFN3fC",
        "colab_type": "code",
        "colab": {}
      },
      "cell_type": "code",
      "source": [
        "healthy_abundance = {}\n",
        "sick_abundance = {}\n",
        "cancer_div_by_healthy_abundance_ratio = {}\n",
        "\n",
        "\n",
        "\n",
        "\n"
      ],
      "execution_count": 0,
      "outputs": []
    },
    {
      "metadata": {
        "id": "mEJou8I5REhX",
        "colab_type": "code",
        "colab": {}
      },
      "cell_type": "code",
      "source": [
        ""
      ],
      "execution_count": 0,
      "outputs": []
    },
    {
      "metadata": {
        "id": "RYpGvRmaPUaS",
        "colab_type": "code",
        "colab": {}
      },
      "cell_type": "code",
      "source": [
        "for index, row in abundance_info.iterrows():\n",
        "  healthy_list = row[healthyColumnNames]\n",
        "  sick_list = row[cancerColumnNames]\n",
        "  #print(healthy_list)\n",
        "  #print(sick_list)\n",
        "  #Remove Values 0 or close\n",
        "  cleanHealthyDataList = np.where(np.isclose(healthy_list,0), np.nan, healthy_list)\n",
        "  cleanHealthyDataList = [x for x in cleanHealthyDataList if str(x) != 'nan']\n",
        "  #Remove Values 0 or close\n",
        "  cleanSickDataList = np.where(np.isclose(sick_list,0), np.nan, sick_list)\n",
        "  cleanSickDataList = [x for x in cleanSickDataList if str(x) != 'nan']\n",
        "  #Get Average Abundance Levels\n",
        "  protein_name = index\n",
        "  avg_cancer_abundance = np.mean(cleanSickDataList)\n",
        "  avg_healthy_abundance = np.mean(cleanHealthyDataList)\n",
        "  healthy_abundance[protein_name] = avg_healthy_abundance\n",
        "  sick_abundance[protein_name] = avg_cancer_abundance\n",
        "  cancer_div_by_healthy_abundance_ratio[protein_name] = avg_cancer_abundance/avg_healthy_abundance\n",
        "  "
      ],
      "execution_count": 0,
      "outputs": []
    },
    {
      "metadata": {
        "id": "AKBJYeA9SsaS",
        "colab_type": "code",
        "colab": {}
      },
      "cell_type": "code",
      "source": [
        "healthy_abundance"
      ],
      "execution_count": 0,
      "outputs": []
    },
    {
      "metadata": {
        "id": "ru0JyjkqSuj8",
        "colab_type": "code",
        "colab": {}
      },
      "cell_type": "code",
      "source": [
        "sick_abundance"
      ],
      "execution_count": 0,
      "outputs": []
    },
    {
      "metadata": {
        "id": "0Z9kobOASvm4",
        "colab_type": "code",
        "colab": {}
      },
      "cell_type": "code",
      "source": [
        "cancer_div_by_healthy_abundance_ratio"
      ],
      "execution_count": 0,
      "outputs": []
    },
    {
      "metadata": {
        "id": "oepekm_M9qM8",
        "colab_type": "code",
        "colab": {}
      },
      "cell_type": "code",
      "source": [
        "protein_to_complex"
      ],
      "execution_count": 0,
      "outputs": []
    },
    {
      "metadata": {
        "id": "TK4MbtQwsLfj",
        "colab_type": "code",
        "outputId": "50ad5603-53aa-4b40-b490-2a6798bf75f4",
        "colab": {
          "base_uri": "https://localhost:8080/",
          "height": 34
        }
      },
      "cell_type": "code",
      "source": [
        "finalDict = {}\n",
        "\n",
        "for key,values in protein_to_complex.items():\n",
        "    tempArray = []\n",
        "    for value in values:\n",
        "        if value in cancer_div_by_healthy_abundance_ratio:\n",
        "            tempArray.append(cancer_div_by_healthy_abundance_ratio[value])\n",
        "            #print(cancer_div_by_healthy_abundance_ratio[value])\n",
        "    finalDict[key] = tempArray\n",
        "\n",
        "totalCount = 0\n",
        "for key, value in finalDict.items():\n",
        "    if len(value) != 0:\n",
        "        totalCount += 1\n",
        "\n",
        "print(totalCount)"
      ],
      "execution_count": 0,
      "outputs": [
        {
          "output_type": "stream",
          "text": [
            "2333\n"
          ],
          "name": "stdout"
        }
      ]
    },
    {
      "metadata": {
        "id": "cNgbJ4Brokc4",
        "colab_type": "code",
        "colab": {}
      },
      "cell_type": "code",
      "source": [
        "finalDict\n",
        "abundanceRatiosPickle = open(\"cancer_abnd_div_by_healthy_dict.pickle\", \"wb\")\n",
        "pickle.dump(finalDict,abundanceRatiosPickle)"
      ],
      "execution_count": 0,
      "outputs": []
    }
  ]
}