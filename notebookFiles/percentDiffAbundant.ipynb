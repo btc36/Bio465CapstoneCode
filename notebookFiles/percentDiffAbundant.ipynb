{
  "nbformat": 4,
  "nbformat_minor": 0,
  "metadata": {
    "colab": {
      "name": "percentDiffAbundant.ipynb",
      "version": "0.3.2",
      "provenance": []
    },
    "kernelspec": {
      "name": "python3",
      "display_name": "Python 3"
    }
  },
  "cells": [
    {
      "metadata": {
        "id": "Qr-jgRt_M6pm",
        "colab_type": "code",
        "outputId": "abecdb34-7909-489c-d0ed-42dd9d1eb5cd",
        "colab": {
          "base_uri": "https://localhost:8080/",
          "height": 34
        }
      },
      "cell_type": "code",
      "source": [
        "import pickle, os, numpy as np\n",
        "from collections import defaultdict\n",
        "\n",
        "#Retrieve all dictionaries\n",
        "pickle_complex = open(\"BrentsComplexToProteins.pickle\",\"rb\")\n",
        "pickle_p_values = open(\"ProteinNamesToPValsDictionary.pickle\",\"rb\")\n",
        "\n",
        "dict_complex = pickle.load(pickle_complex)\n",
        "dict_p_values = pickle.load(pickle_p_values)\n",
        "\n",
        "newDictionary = {}\n",
        "\n",
        "total_count = 0\n",
        "for key, value in dict_complex.items():\n",
        "    total_count = 0\n",
        "    for p_value in value:\n",
        "        if p_value in dict_p_values:\n",
        "            if dict_p_values[p_value] < 0.05:\n",
        "                total_count += 1\n",
        "#     print(total_count/len(value))\n",
        "    newDictionary[key] = (total_count/len(value))\n",
        "\n",
        "total_count = 0\n",
        "for key, value in newDictionary.items():\n",
        "    if value > 0:\n",
        "#         print(key)\n",
        "        total_count += 1\n",
        "        \n",
        "# print(total_count)\n",
        "# print(dict_complex)\n",
        "\n",
        "print(len(newDictionary))\n",
        "\n",
        "with open('percentDiffAbundant.pickle', 'wb') as handle:\n",
        "   pickle.dump(newDictionary, handle, protocol=pickle.HIGHEST_PROTOCOL)"
      ],
      "execution_count": 0,
      "outputs": [
        {
          "output_type": "stream",
          "text": [
            "3698\n"
          ],
          "name": "stdout"
        }
      ]
    }
  ]
}