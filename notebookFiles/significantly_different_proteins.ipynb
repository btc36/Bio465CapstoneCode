{
  "nbformat": 4,
  "nbformat_minor": 0,
  "metadata": {
    "colab": {
      "name": "significantly_different_proteins.ipynb",
      "version": "0.3.2",
      "provenance": [],
      "collapsed_sections": [],
      "toc_visible": true
    },
    "kernelspec": {
      "name": "python3",
      "display_name": "Python 3"
    }
  },
  "cells": [
    {
      "metadata": {
        "id": "bWEMtQG-3PgD",
        "colab_type": "text"
      },
      "cell_type": "markdown",
      "source": [
        "# Differentially Expressed Proteins \n",
        "Statistical rigor is important when making claims about data--especially when human health gets involved. This snippet of code singles out data that is statistically \"safe\", that is, it weeds out the bad data that doesn't meet common assumptions for statistical tests between two populations.\n",
        "\n",
        "Particularly, this code selects data for two populations that:\n",
        "\n",
        "1.   Have comparable variances (as measured by an F-test with a p-value greater than 0.05)\n",
        "2.   Are normally distributed (as measured by a shapro-wilk test with a p-value greater than 0.05)\n",
        "\n",
        "*Results:*\n",
        "\n",
        "\n",
        "*   The raw data contained expression levels for 6,794 proteins in healthy and cancerous ovary tissue\n",
        "*   This code narrows the number of comparable proteins to 1458\n",
        "*   This number is about 1/3 as large when a bonferroni multiple-testing correction is not used for the variance and normality tests (i.e. there are potentially many spurious non-normal and non-similar variances without bonferroni correction)\n",
        "\n",
        "\n",
        "\n",
        "\n",
        "\n"
      ]
    },
    {
      "metadata": {
        "id": "QQ06ztOZ6FWj",
        "colab_type": "text"
      },
      "cell_type": "markdown",
      "source": [
        "## Prepare Data"
      ]
    },
    {
      "metadata": {
        "id": "Wc7h_bAn4qZv",
        "colab_type": "code",
        "colab": {}
      },
      "cell_type": "code",
      "source": [
        "alpha = 0.05"
      ],
      "execution_count": 0,
      "outputs": []
    },
    {
      "metadata": {
        "id": "E_igLYKg1je9",
        "colab_type": "code",
        "colab": {}
      },
      "cell_type": "code",
      "source": [
        "# import libraries\n",
        "\n",
        "import pandas as pd\n",
        "import pickle\n",
        "import numpy as np\n",
        "from scipy import stats\n",
        "from statsmodels.sandbox.stats.multicomp import multipletests"
      ],
      "execution_count": 0,
      "outputs": []
    },
    {
      "metadata": {
        "id": "MwOzEv2b1oR8",
        "colab_type": "code",
        "outputId": "6df3145b-2cf2-4efa-e6ba-da33b0ec8ef4",
        "colab": {
          "base_uri": "https://localhost:8080/",
          "height": 34
        }
      },
      "cell_type": "code",
      "source": [
        "# prepare notebook for uploading data\n",
        "\n",
        "from google.colab import drive\n",
        "drive.mount('/content/drive')"
      ],
      "execution_count": 0,
      "outputs": [
        {
          "output_type": "stream",
          "text": [
            "Drive already mounted at /content/drive; to attempt to forcibly remount, call drive.mount(\"/content/drive\", force_remount=True).\n"
          ],
          "name": "stdout"
        }
      ]
    },
    {
      "metadata": {
        "id": "cJ_7S9682OlR",
        "colab_type": "code",
        "outputId": "942a725f-b121-4a8b-ace7-178ac3dbf6a4",
        "colab": {
          "base_uri": "https://localhost:8080/",
          "height": 70
        }
      },
      "cell_type": "code",
      "source": [
        "# input file is \"proteinGroups.tsv\", open as a pandas dataframe\n",
        "\n",
        "inputPath = \"proteinGroups.txt\"\n",
        "df_raw = pd.read_csv(inputPath, sep=\"\\t\");\n",
        "\n",
        "df_raw.shape[0]; # there are originally 6,794 proteins being considered\n",
        "\n",
        "proteinIndices=df_raw[df_raw.columns[0]]\n",
        "proteinDict={}\n",
        "counter=1\n",
        "for i in range(len(proteinIndices)-1):\n",
        "  proteinDict[proteinIndices[i]]=df_raw.iat[counter,4]\n",
        "  counter=counter+1"
      ],
      "execution_count": 0,
      "outputs": [
        {
          "output_type": "stream",
          "text": [
            "/usr/local/lib/python3.6/dist-packages/IPython/core/interactiveshell.py:2718: DtypeWarning: Columns (555,556) have mixed types. Specify dtype option on import or set low_memory=False.\n",
            "  interactivity=interactivity, compiler=compiler, result=result)\n"
          ],
          "name": "stderr"
        }
      ]
    },
    {
      "metadata": {
        "id": "otUrvawE13Wq",
        "colab_type": "code",
        "colab": {}
      },
      "cell_type": "code",
      "source": [
        "# select just the LFQ-transformed data\n",
        "\n",
        "df = df_raw.set_index(\"Protein IDs\", drop = False)\n",
        "df = df.loc[:, df.columns.str.startswith('LFQ')]\n",
        "\n",
        "# columns represent different transformations of samples/replciates,\n",
        "# rows represent different proteins (and are labled as such)\n"
      ],
      "execution_count": 0,
      "outputs": []
    },
    {
      "metadata": {
        "id": "OId5fHPC2lmT",
        "colab_type": "code",
        "colab": {}
      },
      "cell_type": "code",
      "source": [
        "# make a list of the column names that represent healthy / cancerous samples\n",
        "\n",
        "healthyColumnNames = []\n",
        "cancerColumnNames = []\n",
        "for column in df.columns:\n",
        "    if \"_NM\" in column:\n",
        "        healthyColumnNames.append(column)\n",
        "    else:\n",
        "        cancerColumnNames.append(column)"
      ],
      "execution_count": 0,
      "outputs": []
    },
    {
      "metadata": {
        "id": "JHdUkAes8H30",
        "colab_type": "text"
      },
      "cell_type": "markdown",
      "source": [
        "## Examine Normality\n",
        "check to see that both the data for for each protein for the healthy and cancerous tissue are normally distributed.\n",
        "\n",
        "*   Perform a separate shapiro-wilk test for 1) the healthy and 2) cancerous samples for each protein, \n",
        "*   Ignore \"bad\" replicates (replicates close to 0).\n",
        "*   If ignoring bad replicates causes the assumptions of the Shapiro-Wilk-test to not be met, assign a p-value of 0\n",
        "*   Save the p-value for each test\n",
        "\n"
      ]
    },
    {
      "metadata": {
        "id": "fMOOY3No8GkP",
        "colab_type": "code",
        "colab": {}
      },
      "cell_type": "code",
      "source": [
        "# 1) HEALTHY tissue samples:\n",
        "\n",
        "shapiro_healthy = [] # initialize a list to store shapiro-test p-values\n",
        "for index, row in df.iterrows(): # perform the test for each protein (row)\n",
        "    dataList = row[healthyColumnNames]\n",
        "    # ignore replicates that have near-zero values (i.e. \"bad\" data)\n",
        "    cleanDataList = np.where(np.isclose(dataList,0), np.nan, dataList)\n",
        "    cleanDataList = [x for x in cleanDataList if str(x) != 'nan']\n",
        "    try:\n",
        "        shapiro = stats.shapiro(cleanDataList)\n",
        "        shapiro_healthy.append(shapiro[1]) # save just the p-value\n",
        "    except ValueError: # if the assumptions of s.w. test are not met:\n",
        "        shapiro_healthy.append(0)\n",
        "\n",
        "        \n",
        "# do a bonferroni correction on the p-values\n",
        "shapiro_healthy_corrected = multipletests(shapiro_healthy, alpha, method='bonferroni')\n",
        "# attach new p-values to the dataframe\n",
        "df[\"shapiro_healthy\"] = shapiro_healthy_corrected[1]"
      ],
      "execution_count": 0,
      "outputs": []
    },
    {
      "metadata": {
        "id": "lwIjzFGd_vkI",
        "colab_type": "code",
        "colab": {}
      },
      "cell_type": "code",
      "source": [
        "# 1) CANCER tissue samples:\n",
        "\n",
        "shapiro_cancer = []\n",
        "for index, row in df.iterrows():\n",
        "    dataList = row[cancerColumnNames]\n",
        "    cleanDataList = np.where(np.isclose(dataList,0), np.nan, dataList)\n",
        "    cleanDataList = [x for x in cleanDataList if str(x) != 'nan']\n",
        "    try:\n",
        "        shapiro = stats.shapiro(cleanDataList)\n",
        "        shapiro_cancer.append(shapiro[1])\n",
        "    except ValueError:\n",
        "        shapiro_cancer.append(0)\n",
        "\n",
        "# do a bonferroni correction on the p-values\n",
        "shapiro_cancer_corrected = multipletests(shapiro_cancer, alpha, method='bonferroni')\n",
        "# attach new p-values to the dataframe\n",
        "df[\"shapiro_cancer\"] = shapiro_cancer_corrected[1]"
      ],
      "execution_count": 0,
      "outputs": []
    },
    {
      "metadata": {
        "id": "gsgsT82KYa5S",
        "colab_type": "text"
      },
      "cell_type": "markdown",
      "source": [
        "## Trim non-normal data"
      ]
    },
    {
      "metadata": {
        "id": "O2i0tzbVYdxL",
        "colab_type": "code",
        "outputId": "023b7c5b-809a-4d8b-bf5c-396e2e77444d",
        "colab": {
          "base_uri": "https://localhost:8080/",
          "height": 67
        }
      },
      "cell_type": "code",
      "source": [
        "# trim low p-vals\n",
        "\n",
        "numProteinsA = len(df.index.values)\n",
        "df = df[df[\"shapiro_healthy\"] > alpha]\n",
        "numProteinsB = len(df.index.values)\n",
        "df = df[df[\"shapiro_cancer\"] > alpha]\n",
        "numProteinsC = len(df.index.values)\n",
        "\n",
        "print(\"number of proteins before any trimming: \" + str(numProteinsA))\n",
        "print(\"number of proteins after removing non-normal healthy tissue: \" + str(numProteinsB))\n",
        "print(\"number of proteins after moving non-normal cancerous tissue: \" + str(numProteinsC))\n",
        "\n",
        "ndp = open(\"normallyDistributedProteins.pickle\", \"wb\")\n",
        "pickle.dump(df.index.values, ndp)\n",
        "\n"
      ],
      "execution_count": 0,
      "outputs": [
        {
          "output_type": "stream",
          "text": [
            "number of proteins before any trimming: 6794\n",
            "number of proteins after removing non-normal healthy tissue: 3102\n",
            "number of proteins after moving non-normal cancerous tissue: 2507\n"
          ],
          "name": "stdout"
        }
      ]
    },
    {
      "metadata": {
        "id": "egaitssMYJLk",
        "colab_type": "text"
      },
      "cell_type": "markdown",
      "source": [
        "## Examine Variances\n",
        "Both populations (healthy vs cancer, for a given protein) must have relatively equal variances in order to compare their means. Test variance using F-tests:\n",
        "\n",
        "*   Perform an F-test for each protein, \n",
        "*   Ignore \"bad\" replicates (replicates close to 0).\n",
        "*   If ignoring bad replicates causes the assumptions of the F-test to not be met, assign a p-value of 0\n",
        "*   Save the p-value for each F-test\n",
        "\n",
        "*This test is highly sensitive to non-normal samples, and therefore must be performed after the non-normal proteins have been removed (which is what the previous cell does)*"
      ]
    },
    {
      "metadata": {
        "id": "Tx-X6BL5YIbs",
        "colab_type": "code",
        "colab": {}
      },
      "cell_type": "code",
      "source": [
        "# an f-test was performed for each protein\n",
        "\n",
        "# f_p_val = [] # initialize a list to store individual f-test p-values\n",
        "# for index, row in df.iterrows(): # perform a test for every protein (row)\n",
        "    \n",
        "#     # separate the two populations\n",
        "#     healthyList = row[healthyColumnNames]\n",
        "#     cancerList = row[cancerColumnNames]\n",
        "\n",
        "#     # calculate degrees of freedom as the population size - 1\n",
        "#     df1 = (len(healthyList) - 1)\n",
        "#     df2 = (len(cancerList) - 1)\n",
        "\n",
        "#     # ignore data that is close to 0 when performing the test\n",
        "#     cleanHealthyList = np.where(np.isclose(healthyList,0), np.nan, healthyList)\n",
        "#     cleanCancerList = np.where(np.isclose(cancerList,0), np.nan, cancerList)\n",
        "#     cleanHealthyList = [x for x in cleanHealthyList if str(x) != 'nan']\n",
        "#     cleanCancerList = [x for x in cleanCancerList if str(x) != 'nan']\n",
        "  \n",
        "#     # calculate the p-value and save in list\n",
        "#     try:\n",
        "#         # calculate the F value\n",
        "#         F = (np.var(cleanHealthyList) / np.var(cleanCancerList))\n",
        "#         if str(F) != \"nan\" and F > 0.1:\n",
        "#             p_val = stats.f.cdf(F, df1, df2)\n",
        "#             f_p_val.append(p_val)\n",
        "#         else:\n",
        "#             f_p_val.append(0)\n",
        "#     except: # when the assumptions of the test are not met:\n",
        "#         f_p_val.append(0) # do not consider the data normally distributed \n",
        "\n",
        "# # attach new p-values to the dataframe\n",
        "# # do a bonferroni correction on the p-values\n",
        "# f_p_adjusted = multipletests(f_p_val, alpha, method='bonferroni')\n",
        "# # attach new p-values to the dataframe\n",
        "# df[\"f_p_val\"] = f_p_adjusted[1]\n",
        "# # ftest = open(\"fTestResults.pickle\", \"wb\")\n",
        "# # pickle.dump(df, f_p_adjusted[1])\n",
        "\n",
        "\n",
        "# fPValDict = dict(zip(df.index.values, f_p_val))\n",
        "# print(fPValDict)\n",
        "# import pickle\n",
        "# cr = open(\"fTestPVals.pickle\", \"wb\")\n",
        "# pickle.dump(fPValDict, cr)\n"
      ],
      "execution_count": 0,
      "outputs": []
    },
    {
      "metadata": {
        "id": "xLAXnCyyAfJs",
        "colab_type": "text"
      },
      "cell_type": "markdown",
      "source": [
        "## Trim non-equal variances\n",
        "Discard all proteins that did not meet the assumptions of normality and equal variance between healthy and cancerous tissue"
      ]
    },
    {
      "metadata": {
        "id": "J0wrcwwCAsjv",
        "colab_type": "code",
        "colab": {}
      },
      "cell_type": "code",
      "source": [
        "\n",
        "# df = df[df[\"f_p_val\"] > alpha]\n",
        "# numProteinsD = len(df.index.values)\n",
        "\n",
        "# comparableRows = df.index.values\n",
        "\n",
        "# import pickle\n",
        "# cr = open(\"comparableRows.pickle\", \"wb\")\n",
        "# pickle.dump(comparableRows, cr)\n",
        "\n",
        "\n",
        "# print(\"number of proteins after moving non-same variance proteins: \" + str(numProteinsD))\n",
        "# print(\"Final number of comparable proteins: \" + str(len(comparableRows)))"
      ],
      "execution_count": 0,
      "outputs": []
    },
    {
      "metadata": {
        "id": "JIxZCuR-Von4",
        "colab_type": "text"
      },
      "cell_type": "markdown",
      "source": [
        "## Perform the T-test\n",
        "\n",
        "*   Two-sampled\n",
        "*   Two-sided (multiply output p-value by two)\n",
        "*   Bonferonni Correction (adjust 0.05 down according to the number of tests)\n",
        "\n"
      ]
    },
    {
      "metadata": {
        "id": "TIcJzbstPkyv",
        "colab_type": "code",
        "colab": {}
      },
      "cell_type": "code",
      "source": [
        "# do the two-sample t-test\n",
        "\n",
        "tTestPVals = []\n",
        "for index, row in df.iterrows():\n",
        "    # grab the two \"populations\" for this protein\n",
        "    healthyList = row[healthyColumnNames]\n",
        "    cancerList = row[cancerColumnNames]\n",
        "    \n",
        "    # remove bad data\n",
        "    cleanHealthyList = np.where(np.isclose(healthyList,0), np.nan, healthyList)\n",
        "    cleanHealthyList = [x for x in cleanHealthyList if str(x) != 'nan']\n",
        "    cleanCancerList = np.where(np.isclose(cancerList,0), np.nan, cancerList)\n",
        "    cleanCancerList = [x for x in cleanCancerList if str(x) != 'nan']\n",
        "    \n",
        "    try:\n",
        "        newPVal = stats.ttest_ind(cleanHealthyList, cleanCancerList, equal_var = False)\n",
        "        tTestPVals.append(newPVal[1] * 2) # save just the p-value\n",
        "    except ValueError: # if the assumptions of s.w. test are not met:\n",
        "        tTestPVals.append(1)\n",
        "\n",
        "\n",
        "    \n",
        "    \n",
        "# attach new p-values to the dataframe\n",
        "# do a bonferroni correction on the p-values\n",
        "t_p_adjusted = multipletests(tTestPVals, alpha, method='bonferroni')\n",
        "# attach new p-values to the dataframe\n",
        "df[\"t_p_val\"] = t_p_adjusted[1]\n"
      ],
      "execution_count": 0,
      "outputs": []
    },
    {
      "metadata": {
        "id": "07jXq73cTTY9",
        "colab_type": "code",
        "colab": {}
      },
      "cell_type": "code",
      "source": [
        "\n",
        "abundanceDF = open(\"abundanceDF.pickle\", \"wb\")\n",
        "pickle.dump(df,abundanceDF)"
      ],
      "execution_count": 0,
      "outputs": []
    },
    {
      "metadata": {
        "id": "2rzdG7MiLMFG",
        "colab_type": "code",
        "outputId": "54c2a879-66ac-4b82-f927-fe37647c3635",
        "colab": {
          "base_uri": "https://localhost:8080/",
          "height": 34
        }
      },
      "cell_type": "code",
      "source": [
        "df.shape"
      ],
      "execution_count": 0,
      "outputs": [
        {
          "output_type": "execute_result",
          "data": {
            "text/plain": [
              "(2507, 62)"
            ]
          },
          "metadata": {
            "tags": []
          },
          "execution_count": 28
        }
      ]
    },
    {
      "metadata": {
        "id": "xayMuObyauR3",
        "colab_type": "text"
      },
      "cell_type": "markdown",
      "source": [
        "## Grab proteins that are signficantly different according to the t-test"
      ]
    },
    {
      "metadata": {
        "id": "8NYh8vX0a0GR",
        "colab_type": "code",
        "outputId": "d677944a-81d2-46f1-b95c-e3dfae9b8d56",
        "colab": {
          "base_uri": "https://localhost:8080/",
          "height": 84
        }
      },
      "cell_type": "code",
      "source": [
        "df_diff_proteins = df[df[\"t_p_val\"] < alpha]\n",
        "df_noDiff_proteins = df[df[\"t_p_val\"] > alpha]\n",
        "\n",
        "differentProteins = df_diff_proteins.index.values\n",
        "notDifferentProteins = df_noDiff_proteins.index.values\n",
        "\n",
        "# check to make sure the lists are mutually exclusive\n",
        "for protein in differentProteins:\n",
        "  if protein in notDifferentProteins:\n",
        "    print(protein)\n",
        "    \n",
        "for protein in notDifferentProteins:\n",
        "  if protein in differentProteins:\n",
        "    print(protein)\n",
        "    \n",
        "# print the lengths\n",
        "print(\"Number of proteins that were significantly different: \" + str(len(differentProteins)))\n",
        "print(\"Number of proteins that were NOT significantly different: \" + str(len(notDifferentProteins)))\n",
        "\n",
        "print(\"lists of protein names are available as \\\"differentProteins.pickle\\\" and \\\"notDifferentProteins.pickle\\\"\")\n",
        "print(\"download those files if you dont' want to re-run this each time you need to generate those lists\")\n",
        "\n",
        "# save/download the proteins\n",
        "import pickle\n",
        "diffOut = open(\"diffProteins.pickle\", \"wb\")\n",
        "pickle.dump(differentProteins, diffOut)\n",
        "noDiffOut = open(\"notDiffProteins.pickle\", \"wb\")\n",
        "pickle.dump(notDifferentProteins, noDiffOut)\n",
        "\n",
        "\n",
        "# save the p-values\n",
        "pVals = df[\"t_p_val\"]\n",
        "proteinNames = df.index.values\n",
        "nameToPVal = dict(zip(proteinNames, pVals))\n",
        "\n",
        "pValsOut = open(\"ProteinNamesToPValsDictionary.pickle\", \"wb\")\n",
        "pickle.dump(nameToPVal,pValsOut)\n",
        "\n",
        "\n"
      ],
      "execution_count": 0,
      "outputs": [
        {
          "output_type": "stream",
          "text": [
            "Number of proteins that were significantly different: 634\n",
            "Number of proteins that were NOT significantly different: 1873\n",
            "lists of protein names are available as \"differentProteins.pickle\" and \"notDifferentProteins.pickle\"\n",
            "download those files if you dont' want to re-run this each time you need to generate those lists\n"
          ],
          "name": "stdout"
        }
      ]
    },
    {
      "metadata": {
        "id": "Pyu7DtstLeBm",
        "colab_type": "text"
      },
      "cell_type": "markdown",
      "source": [
        "#### Store the ACC Coefficients"
      ]
    },
    {
      "metadata": {
        "id": "XeteT7WuLcVd",
        "colab_type": "code",
        "colab": {}
      },
      "cell_type": "code",
      "source": [
        ""
      ],
      "execution_count": 0,
      "outputs": []
    },
    {
      "metadata": {
        "id": "vM_l0MfNd4w9",
        "colab_type": "code",
        "outputId": "24ac3e25-fe9d-4f66-b09f-fd072597f1cd",
        "colab": {
          "base_uri": "https://localhost:8080/",
          "height": 67
        }
      },
      "cell_type": "code",
      "source": [
        "# how to read in the pickle files:\n",
        "\n",
        "newDiffProteins = pickle.load(open(\"diffProteins.pickle\", \"rb\")) # update this to reflect the path in your computer\n",
        "newNoDiffProteins = pickle.load(open(\"notDiffProteins.pickle\", \"rb\")) # update this to reflect the path in your computer\n",
        "\n",
        "\n",
        "\n",
        "print(len(newDiffProteins))\n",
        "print(len(newNoDiffProteins))\n",
        "# print(newDiffProteins)\n",
        "\n",
        "\n",
        "for protein in newDiffProteins:\n",
        "  if \"Q92878\" in protein:\n",
        "    print(\"rad50\")\n",
        "if \"Q92878\" in newNoDiffProteins:\n",
        "  pritn(\"noDiff\")\n",
        "\n",
        "# for i in newDiffProteins:\n",
        "#   print(proteinDict[i])"
      ],
      "execution_count": 0,
      "outputs": [
        {
          "output_type": "stream",
          "text": [
            "634\n",
            "1873\n",
            "rad50\n"
          ],
          "name": "stdout"
        }
      ]
    }
  ]
}