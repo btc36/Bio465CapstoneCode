{
  "nbformat": 4,
  "nbformat_minor": 0,
  "metadata": {
    "colab": {
      "name": "meanACCipynb",
      "version": "0.3.2",
      "provenance": []
    },
    "kernelspec": {
      "name": "python3",
      "display_name": "Python 3"
    }
  },
  "cells": [
    {
      "metadata": {
        "id": "Qr-jgRt_M6pm",
        "colab_type": "code",
        "outputId": "f00dafd1-9be7-4641-f961-7b89f758a0df",
        "colab": {
          "base_uri": "https://localhost:8080/",
          "height": 50
        }
      },
      "cell_type": "code",
      "source": [
        "import pickle, os, numpy as np\n",
        "from collections import defaultdict\n",
        "\n",
        "#Retrieve all dictionaries\n",
        "pickle_complex = open(\"BrentsComplexToProteins.pickle\",\"rb\")\n",
        "pickle_p_values = open(\"ProteinNamesToPValsDictionary.pickle\",\"rb\")\n",
        "proteinToACCPickle = open(\"proteinToACC.pickle\", \"rb\")\n",
        "\n",
        "\n",
        "dict_complex = pickle.load(pickle_complex)\n",
        "dict_p_values = pickle.load(pickle_p_values)\n",
        "proteinToACC = pickle.load(proteinToACCPickle)\n",
        "\n",
        "newDictionary = {}\n",
        "print(len(proteinToACC))\n",
        "\n",
        "meanACC = {}\n",
        "\n",
        "total_count = 0\n",
        "for key, values in dict_complex.items():\n",
        "\n",
        "  # Grab the ACC values for the complex\n",
        "  numProteins = 0\n",
        "  totalACC = 0\n",
        "  for value in values:\n",
        "    if value in proteinToACC:\n",
        "      numProteins = numProteins + 1\n",
        "      totalACC = totalACC + proteinToACC[value]\n",
        "      \n",
        "  # compute the average\n",
        "  if numProteins > 0:\n",
        "    complexAverage = totalACC / numProteins\n",
        "    meanACC[key] = complexAverage\n",
        "  else:\n",
        "    meanACC[key] = 0\n",
        "\n",
        "print(len(meanACC))\n",
        "#     total_count = 0\n",
        "#     for p_value in value:\n",
        "#         if p_value in dict_p_values:\n",
        "#             if dict_p_values[p_value] < 0.05:\n",
        "#                 total_count += 1\n",
        "#     print(total_count/len(value))\n",
        "#     newDictionary[key] = (total_count/len(value))\n",
        "\n",
        "# total_count = 0\n",
        "# for key, value in newDictionary.items():\n",
        "#     if value > 0:\n",
        "#         print(key)\n",
        "#         total_count += 1\n",
        "        \n",
        "# print(total_count)\n",
        "# print(dict_complex)\n",
        "\n",
        "with open('meanACC.pickle', 'wb') as handle:\n",
        "   pickle.dump(meanACC, handle, protocol=pickle.HIGHEST_PROTOCOL)"
      ],
      "execution_count": 0,
      "outputs": [
        {
          "output_type": "stream",
          "text": [
            "2507\n",
            "3698\n"
          ],
          "name": "stdout"
        }
      ]
    }
  ]
}