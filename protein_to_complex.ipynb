{
  "nbformat": 4,
  "nbformat_minor": 0,
  "metadata": {
    "colab": {
      "name": "protein_to_complex.ipynb",
      "version": "0.3.2",
      "provenance": [],
      "collapsed_sections": []
    },
    "kernelspec": {
      "name": "python3",
      "display_name": "Python 3"
    }
  },
  "cells": [
    {
      "metadata": {
        "id": "KpeO1wR9Tj2X",
        "colab_type": "code",
        "colab": {}
      },
      "cell_type": "code",
      "source": [
        "import seaborn as sns\n",
        "from google.colab import drive\n",
        "#drive.mount('/content/drive')"
      ],
      "execution_count": 0,
      "outputs": []
    },
    {
      "metadata": {
        "id": "IODxZddwUOuh",
        "colab_type": "code",
        "colab": {}
      },
      "cell_type": "code",
      "source": [
        "import pandas as pd\n",
        "import numpy as np\n",
        "import networkx as nx\n",
        "import pickle as pkl\n"
      ],
      "execution_count": 0,
      "outputs": []
    },
    {
      "metadata": {
        "id": "qCu71i8dUVVZ",
        "colab_type": "text"
      },
      "cell_type": "markdown",
      "source": [
        "Map protein to Complex, while also keeping track of what percentage of each complex's proteins were differential expressed, not differentially expressed, and data not present\n",
        "'"
      ]
    },
    {
      "metadata": {
        "id": "3e-uo6y9UmRi",
        "colab_type": "code",
        "colab": {}
      },
      "cell_type": "code",
      "source": [
        "# read in dataframe\n",
        "complex_data = pd.read_csv('ComplexParticipantsPubMedIdentifiers_Human.txt', sep=\"\\t\")\n",
        "complex_data"
      ],
      "execution_count": 0,
      "outputs": []
    },
    {
      "metadata": {
        "id": "bl05JSZTXgRa",
        "colab_type": "code",
        "colab": {}
      },
      "cell_type": "code",
      "source": [
        "#Read in Diff Proteins List\n",
        "diffProteins = pd.read_pickle(\"differentProteins.pickle\")\n",
        "diffProteins"
      ],
      "execution_count": 0,
      "outputs": []
    },
    {
      "metadata": {
        "id": "JIkA8E7TX268",
        "colab_type": "code",
        "outputId": "4d337712-bbd4-473e-e21e-d7a9be35f275",
        "colab": {
          "base_uri": "https://localhost:8080/",
          "height": 51
        }
      },
      "cell_type": "code",
      "source": [
        "#Read in No Diff Protein List\n",
        "noDiffProteins = pd.read_pickle(\"notDifferentProteins.pickle\")\n",
        "noDiffProteins"
      ],
      "execution_count": 0,
      "outputs": [
        {
          "output_type": "execute_result",
          "data": {
            "text/plain": [
              "array(['A0M8Q6', 'A0MZ66', 'A1L4H1', ..., 'REV__Q07020', 'REV__Q86WU2',\n",
              "       'REV__Q8TD57'], dtype=object)"
            ]
          },
          "metadata": {
            "tags": []
          },
          "execution_count": 5
        }
      ]
    },
    {
      "metadata": {
        "id": "tIll_PaiZbFg",
        "colab_type": "code",
        "outputId": "d67b2526-1b6c-40da-dc30-acd5091acf88",
        "colab": {
          "base_uri": "https://localhost:8080/",
          "height": 80
        }
      },
      "cell_type": "code",
      "source": [
        "#Create dict to store protein/complex data\n",
        "#Create table I will fill with data about complex\n",
        "p_to_comp = {};\n",
        "complex_family = {'Complex': [\"COMPLEX A\"], 'Differentially Expressed': [60], 'Not Differentially Expressed':[20], \"Data Not Avaliable\": [20]}\n",
        "complex_family = pd.DataFrame(data=complex_family)\n",
        "complex_family"
      ],
      "execution_count": 0,
      "outputs": [
        {
          "output_type": "execute_result",
          "data": {
            "text/html": [
              "<div>\n",
              "<style scoped>\n",
              "    .dataframe tbody tr th:only-of-type {\n",
              "        vertical-align: middle;\n",
              "    }\n",
              "\n",
              "    .dataframe tbody tr th {\n",
              "        vertical-align: top;\n",
              "    }\n",
              "\n",
              "    .dataframe thead th {\n",
              "        text-align: right;\n",
              "    }\n",
              "</style>\n",
              "<table border=\"1\" class=\"dataframe\">\n",
              "  <thead>\n",
              "    <tr style=\"text-align: right;\">\n",
              "      <th></th>\n",
              "      <th>Complex</th>\n",
              "      <th>Data Not Avaliable</th>\n",
              "      <th>Differentially Expressed</th>\n",
              "      <th>Not Differentially Expressed</th>\n",
              "    </tr>\n",
              "  </thead>\n",
              "  <tbody>\n",
              "    <tr>\n",
              "      <th>0</th>\n",
              "      <td>COMPLEX A</td>\n",
              "      <td>20</td>\n",
              "      <td>60</td>\n",
              "      <td>20</td>\n",
              "    </tr>\n",
              "  </tbody>\n",
              "</table>\n",
              "</div>"
            ],
            "text/plain": [
              "     Complex  Data Not Avaliable  Differentially Expressed  \\\n",
              "0  COMPLEX A                  20                        60   \n",
              "\n",
              "   Not Differentially Expressed  \n",
              "0                            20  "
            ]
          },
          "metadata": {
            "tags": []
          },
          "execution_count": 6
        }
      ]
    },
    {
      "metadata": {
        "id": "0oUGjzgMbGbY",
        "colab_type": "code",
        "colab": {}
      },
      "cell_type": "code",
      "source": [
        "#Store proteins not with Uniprot\n",
        "stop = 0;\n",
        "proteins_not_uniprot = [];\n",
        "i = 1;\n",
        "#Loop through complex_data and fill out data objects\n",
        "for index, row in complex_data.iterrows():\n",
        "  if(stop == 10):\n",
        "    break;\n",
        "  stop += 1\n",
        "  num_proteins = 0;\n",
        "  num_diff = 0;\n",
        "  num_no_diff = 0;\n",
        "  num_no_data = 0;\n",
        "  complex_id = row['identifier'];\n",
        "  proteins_involved_list = row['participants'];\n",
        "  proteins_involved = proteins_involved_list.split(\"|\");\n",
        "  for protein in proteins_involved:\n",
        "    num_proteins += 1;\n",
        "    protein_info = protein.split(':');\n",
        "    dataBase = protein_info[0];\n",
        "    protein_id = protein_info[1];\n",
        "    if (dataBase != \"uniprot\"):\n",
        "      proteins_not_uniprot.append(protein);\n",
        "      num_no_data += 1;\n",
        "      continue;\n",
        "    if (protein_id in noDiffProteins):\n",
        "      num_no_diff += 1;\n",
        "      if (protein_id not in p_to_comp):\n",
        "        p_to_comp[protein_id] = [];\n",
        "      p_to_comp[protein_id].append(complex_id);\n",
        "    elif (protein_id in diffProteins):\n",
        "      num_diff += 1;\n",
        "      if (protein_id not in p_to_comp):\n",
        "        p_to_comp[protein_id] = [];\n",
        "      p_to_comp[protein_id].append(complex_id);\n",
        "    else:\n",
        "      num_no_data +=1\n",
        "  print(\"NO DATA: \" + str(num_no_data))\n",
        "  print(\"NO DIFF: \" + str(num_no_diff))\n",
        "  print(\"DIFF: \" + str(num_diff));\n",
        "  print(\"NUM PROTEINS: \" + str(num_proteins));\n",
        "  print(\"************\")\n",
        "  noDataPercent = num_no_data / num_proteins;\n",
        "  noDiffPercent = num_no_diff / num_proteins;\n",
        "  diffPercent = num_diff / num_proteins;\n",
        "  #print([noDataPercent, diffPercent, noDiffPercent])    \n",
        "  complex_family.loc[i]=[complex_id,noDataPercent, diffPercent, noDiffPercent];\n",
        "  i += 1\n",
        "  #complex_family.index = complex_family.index + 1\n",
        "    \n",
        "     \n",
        "        \n",
        "      \n",
        "      \n",
        "    \n"
      ],
      "execution_count": 0,
      "outputs": []
    },
    {
      "metadata": {
        "id": "iqvvpdLWRnea",
        "colab_type": "code",
        "outputId": "0ed48311-92b1-4663-8f7e-b772a671c199",
        "colab": {
          "base_uri": "https://localhost:8080/",
          "height": 390
        }
      },
      "cell_type": "code",
      "source": [
        "#len(proteins_not_uniprot)\n",
        "#p_to_comp\n",
        "complex_family"
      ],
      "execution_count": 0,
      "outputs": [
        {
          "output_type": "execute_result",
          "data": {
            "text/html": [
              "<div>\n",
              "<style scoped>\n",
              "    .dataframe tbody tr th:only-of-type {\n",
              "        vertical-align: middle;\n",
              "    }\n",
              "\n",
              "    .dataframe tbody tr th {\n",
              "        vertical-align: top;\n",
              "    }\n",
              "\n",
              "    .dataframe thead th {\n",
              "        text-align: right;\n",
              "    }\n",
              "</style>\n",
              "<table border=\"1\" class=\"dataframe\">\n",
              "  <thead>\n",
              "    <tr style=\"text-align: right;\">\n",
              "      <th></th>\n",
              "      <th>Complex</th>\n",
              "      <th>Data Not Avaliable</th>\n",
              "      <th>Differentially Expressed</th>\n",
              "      <th>Not Differentially Expressed</th>\n",
              "    </tr>\n",
              "  </thead>\n",
              "  <tbody>\n",
              "    <tr>\n",
              "      <th>0</th>\n",
              "      <td>COMPLEX A</td>\n",
              "      <td>20.0</td>\n",
              "      <td>60.0</td>\n",
              "      <td>20.000000</td>\n",
              "    </tr>\n",
              "    <tr>\n",
              "      <th>1</th>\n",
              "      <td>R-HSA-1006173</td>\n",
              "      <td>1.0</td>\n",
              "      <td>0.0</td>\n",
              "      <td>0.333333</td>\n",
              "    </tr>\n",
              "    <tr>\n",
              "      <th>2</th>\n",
              "      <td>R-HSA-1008206</td>\n",
              "      <td>1.0</td>\n",
              "      <td>0.0</td>\n",
              "      <td>0.000000</td>\n",
              "    </tr>\n",
              "    <tr>\n",
              "      <th>3</th>\n",
              "      <td>R-HSA-1008229</td>\n",
              "      <td>1.0</td>\n",
              "      <td>0.0</td>\n",
              "      <td>0.000000</td>\n",
              "    </tr>\n",
              "    <tr>\n",
              "      <th>4</th>\n",
              "      <td>R-HSA-1008252</td>\n",
              "      <td>1.0</td>\n",
              "      <td>0.0</td>\n",
              "      <td>0.000000</td>\n",
              "    </tr>\n",
              "    <tr>\n",
              "      <th>5</th>\n",
              "      <td>R-HSA-1011577</td>\n",
              "      <td>1.0</td>\n",
              "      <td>0.0</td>\n",
              "      <td>0.000000</td>\n",
              "    </tr>\n",
              "    <tr>\n",
              "      <th>6</th>\n",
              "      <td>R-HSA-1011605</td>\n",
              "      <td>1.0</td>\n",
              "      <td>0.0</td>\n",
              "      <td>0.666667</td>\n",
              "    </tr>\n",
              "    <tr>\n",
              "      <th>7</th>\n",
              "      <td>R-HSA-1012969</td>\n",
              "      <td>1.0</td>\n",
              "      <td>0.0</td>\n",
              "      <td>0.153846</td>\n",
              "    </tr>\n",
              "    <tr>\n",
              "      <th>8</th>\n",
              "      <td>R-HSA-1013011</td>\n",
              "      <td>1.0</td>\n",
              "      <td>0.0</td>\n",
              "      <td>0.115385</td>\n",
              "    </tr>\n",
              "    <tr>\n",
              "      <th>9</th>\n",
              "      <td>R-HSA-1013017</td>\n",
              "      <td>1.0</td>\n",
              "      <td>0.0</td>\n",
              "      <td>0.187500</td>\n",
              "    </tr>\n",
              "    <tr>\n",
              "      <th>10</th>\n",
              "      <td>R-HSA-1013019</td>\n",
              "      <td>1.0</td>\n",
              "      <td>0.0</td>\n",
              "      <td>0.230769</td>\n",
              "    </tr>\n",
              "  </tbody>\n",
              "</table>\n",
              "</div>"
            ],
            "text/plain": [
              "          Complex  Data Not Avaliable  Differentially Expressed  \\\n",
              "0       COMPLEX A                20.0                      60.0   \n",
              "1   R-HSA-1006173                 1.0                       0.0   \n",
              "2   R-HSA-1008206                 1.0                       0.0   \n",
              "3   R-HSA-1008229                 1.0                       0.0   \n",
              "4   R-HSA-1008252                 1.0                       0.0   \n",
              "5   R-HSA-1011577                 1.0                       0.0   \n",
              "6   R-HSA-1011605                 1.0                       0.0   \n",
              "7   R-HSA-1012969                 1.0                       0.0   \n",
              "8   R-HSA-1013011                 1.0                       0.0   \n",
              "9   R-HSA-1013017                 1.0                       0.0   \n",
              "10  R-HSA-1013019                 1.0                       0.0   \n",
              "\n",
              "    Not Differentially Expressed  \n",
              "0                      20.000000  \n",
              "1                       0.333333  \n",
              "2                       0.000000  \n",
              "3                       0.000000  \n",
              "4                       0.000000  \n",
              "5                       0.000000  \n",
              "6                       0.666667  \n",
              "7                       0.153846  \n",
              "8                       0.115385  \n",
              "9                       0.187500  \n",
              "10                      0.230769  "
            ]
          },
          "metadata": {
            "tags": []
          },
          "execution_count": 8
        }
      ]
    }
  ]
}